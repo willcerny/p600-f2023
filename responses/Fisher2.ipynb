{
 "cells": [
  {
   "cell_type": "code",
   "execution_count": 1,
   "id": "df6fba65",
   "metadata": {},
   "outputs": [],
   "source": [
    "import numpy as np\n",
    "import astropy.units as u\n",
    "from astropy.constants import c\n",
    "from numpy.linalg import inv"
   ]
  },
  {
   "cell_type": "code",
   "execution_count": 2,
   "id": "36ad0373",
   "metadata": {},
   "outputs": [],
   "source": [
    "H_0 = (70 * u.km/(u.s * u.Mpc))\n",
    "c_H_0_2 = (c / (70 * u.km/(u.s*u.Mpc))**2).to(u.Mpc * u.s)"
   ]
  },
  {
   "cell_type": "code",
   "execution_count": 3,
   "id": "03b897c3",
   "metadata": {},
   "outputs": [],
   "source": [
    "def chi(H, Om,OL,z):\n",
    "    prefactor = 1 * (c / H_0).to(u.Mpc).value\n",
    "    bracket = z + 0.5*z**2 * (-0.5*Om + OL - 1)\n",
    "    return prefactor * bracket "
   ]
  },
  {
   "cell_type": "code",
   "execution_count": 4,
   "id": "b8a0fc7e",
   "metadata": {},
   "outputs": [],
   "source": [
    "def dchi_H(H, Om,OL,z):\n",
    "    prefactor =  -1 * c_H_0_2.value\n",
    "    bracket =  z + 0.5*z**2 * (-0.5*Om + OL - 1)\n",
    "    return prefactor * bracket"
   ]
  },
  {
   "cell_type": "code",
   "execution_count": 5,
   "id": "b2b533de",
   "metadata": {},
   "outputs": [],
   "source": [
    "def dchi_dOm(H, Om,OL,z):\n",
    "    return -1 * (c / (70 * u.km/u.s/u.Mpc)).to(u.Mpc).value * (0.25*z**2)"
   ]
  },
  {
   "cell_type": "code",
   "execution_count": 6,
   "id": "1219ce65",
   "metadata": {},
   "outputs": [],
   "source": [
    "def dchi_dOL(H, Om,OL,z):\n",
    "    return 1 * (c / (70 * u.km/u.s/u.Mpc)).to(u.Mpc).value * (0.5*z**2)"
   ]
  },
  {
   "cell_type": "code",
   "execution_count": 7,
   "id": "80033a2e",
   "metadata": {},
   "outputs": [],
   "source": [
    "def construct_cov(H, Om,OL,z):\n",
    "        \n",
    "    return 0.01**2 * chi(H, Om,OL,z)**2 * np.identity(3)"
   ]
  },
  {
   "cell_type": "code",
   "execution_count": 8,
   "id": "fc6564d8",
   "metadata": {},
   "outputs": [],
   "source": [
    "def construct_mu_i(H, Om,OL,z):\n",
    "\n",
    "    dch =  dchi_H(H, Om,OL,z) \n",
    "    dcm = dchi_dOm(H, Om,OL,z)\n",
    "    dcl = dchi_dOL(H, Om,OL,z)\n",
    "\n",
    "    mu_i = np.asarray([[dch,dch,dch],[dcm,dcm,dcm],[dcl,dcl,dcl]])\n",
    "    \n",
    "    return mu_i"
   ]
  },
  {
   "cell_type": "code",
   "execution_count": 9,
   "id": "15d20d38",
   "metadata": {},
   "outputs": [],
   "source": [
    "def construct_mu_j(H, Om,OL,z):\n",
    "\n",
    "    dch =  dchi_H(H, Om,OL,z) \n",
    "    dcm = dchi_dOm(H, Om,OL,z)\n",
    "    dcl = dchi_dOL(H, Om,OL,z)\n",
    "\n",
    "    mu_j = np.asarray([[dch,dcm,dcl],[dch,dcm,dcl],[dch,dcm,dcl]])\n",
    "    \n",
    "    return mu_j"
   ]
  },
  {
   "cell_type": "code",
   "execution_count": 10,
   "id": "31ccea14",
   "metadata": {},
   "outputs": [],
   "source": [
    "def get_fisher_matrix(H, Om,OL,z):\n",
    "    \n",
    "    cov = construct_cov(H, Om,OL,z)\n",
    "    mu_i = construct_mu_i(H, Om,OL,z)\n",
    "    mu_j = construct_mu_j(H, Om,OL,z)\n",
    "    \n",
    "    return mu_i.T * inv(cov) * mu_j"
   ]
  },
  {
   "cell_type": "code",
   "execution_count": 11,
   "id": "edfed6d0",
   "metadata": {},
   "outputs": [
    {
     "data": {
      "text/plain": [
       "array([1.13427275e-20, 1.00654615e-01, 5.03273076e-02])"
      ]
     },
     "execution_count": 11,
     "metadata": {},
     "output_type": "execute_result"
    }
   ],
   "source": [
    "F1 = get_fisher_matrix(H = H_0, Om = 0.3, OL = 0.7, z= 0.01)\n",
    "F2 = get_fisher_matrix(H = H_0, Om = 0.3, OL = 0.7, z= 0.1)\n",
    "F3 = get_fisher_matrix(H = H_0, Om = 0.3, OL = 0.7, z= 0.2)\n",
    "F4 = get_fisher_matrix(H = H_0, Om = 0.3, OL = 0.7, z= 0.3)\n",
    "\n",
    "Ftot = F1 + F2 + F3 + F4\n",
    "np.sqrt(np.diag(inv(Ftot)))"
   ]
  },
  {
   "cell_type": "code",
   "execution_count": 12,
   "id": "1cb8e962",
   "metadata": {},
   "outputs": [
    {
     "data": {
      "text/latex": [
       "$0.35 \\; \\mathrm{\\frac{km}{Mpc\\,s}}$"
      ],
      "text/plain": [
       "<Quantity 0.35 km / (Mpc s)>"
      ]
     },
     "execution_count": 12,
     "metadata": {},
     "output_type": "execute_result"
    }
   ],
   "source": [
    "(1.13427275e-20 * 1/u.s).to(u.km/u.s * 1/u.Mpc)"
   ]
  }
 ],
 "metadata": {
  "kernelspec": {
   "display_name": "Python 3",
   "language": "python",
   "name": "python3"
  },
  "language_info": {
   "codemirror_mode": {
    "name": "ipython",
    "version": 3
   },
   "file_extension": ".py",
   "mimetype": "text/x-python",
   "name": "python",
   "nbconvert_exporter": "python",
   "pygments_lexer": "ipython3",
   "version": "3.7.16"
  }
 },
 "nbformat": 4,
 "nbformat_minor": 5
}
